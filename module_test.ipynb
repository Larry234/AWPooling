{
 "cells": [
  {
   "cell_type": "code",
   "execution_count": 1,
   "id": "c376ff90",
   "metadata": {},
   "outputs": [],
   "source": [
    "import ray\n",
    "from ray import tune\n"
   ]
  },
  {
   "cell_type": "code",
   "execution_count": 47,
   "id": "7e151fec",
   "metadata": {},
   "outputs": [
    {
     "name": "stderr",
     "output_type": "stream",
     "text": [
      "/root/notebooks/nfs/work/larry.lai/AWPooling/lib/python3.8/site-packages/ray/tune/tuner.py:230: UserWarning: Passing in the experiment's `trainable` will be a required argument to `Tuner.restore` starting from version 2.5. Please specify the trainable to avoid this warning.\n",
      "  warnings.warn(warning_message)\n",
      "2023-05-14 16:27:01,365\tINFO experiment_analysis.py:789 -- No `self.trials`. Drawing logdirs from checkpoint file. This may result in some information that is out of sync, as checkpointing is periodic.\n"
     ]
    },
    {
     "data": {
      "text/plain": [
       "<ray.tune.tuner.Tuner at 0x7f98def0bf40>"
      ]
     },
     "execution_count": 47,
     "metadata": {},
     "output_type": "execute_result"
    }
   ],
   "source": [
    "tuner = tune.Tuner.restore(\n",
    "    path='HPO/tiny-imagenet/rs/vgg16aw',\n",
    "    \n",
    ")\n"
   ]
  },
  {
   "cell_type": "code",
   "execution_count": 49,
   "id": "a4285552",
   "metadata": {},
   "outputs": [
    {
     "data": {
      "text/plain": [
       "\u001b[0;31mSignature:\u001b[0m\n",
       "\u001b[0mtune\u001b[0m\u001b[0;34m.\u001b[0m\u001b[0mTuner\u001b[0m\u001b[0;34m.\u001b[0m\u001b[0mrestore\u001b[0m\u001b[0;34m(\u001b[0m\u001b[0;34m\u001b[0m\n",
       "\u001b[0;34m\u001b[0m    \u001b[0mpath\u001b[0m\u001b[0;34m:\u001b[0m \u001b[0mstr\u001b[0m\u001b[0;34m,\u001b[0m\u001b[0;34m\u001b[0m\n",
       "\u001b[0;34m\u001b[0m    \u001b[0mtrainable\u001b[0m\u001b[0;34m:\u001b[0m \u001b[0mUnion\u001b[0m\u001b[0;34m[\u001b[0m\u001b[0mstr\u001b[0m\u001b[0;34m,\u001b[0m \u001b[0mCallable\u001b[0m\u001b[0;34m,\u001b[0m \u001b[0mType\u001b[0m\u001b[0;34m[\u001b[0m\u001b[0mray\u001b[0m\u001b[0;34m.\u001b[0m\u001b[0mtune\u001b[0m\u001b[0;34m.\u001b[0m\u001b[0mtrainable\u001b[0m\u001b[0;34m.\u001b[0m\u001b[0mtrainable\u001b[0m\u001b[0;34m.\u001b[0m\u001b[0mTrainable\u001b[0m\u001b[0;34m]\u001b[0m\u001b[0;34m,\u001b[0m \u001b[0mForwardRef\u001b[0m\u001b[0;34m(\u001b[0m\u001b[0;34m'BaseTrainer'\u001b[0m\u001b[0;34m)\u001b[0m\u001b[0;34m,\u001b[0m \u001b[0mNoneType\u001b[0m\u001b[0;34m]\u001b[0m \u001b[0;34m=\u001b[0m \u001b[0;32mNone\u001b[0m\u001b[0;34m,\u001b[0m\u001b[0;34m\u001b[0m\n",
       "\u001b[0;34m\u001b[0m    \u001b[0mresume_unfinished\u001b[0m\u001b[0;34m:\u001b[0m \u001b[0mbool\u001b[0m \u001b[0;34m=\u001b[0m \u001b[0;32mTrue\u001b[0m\u001b[0;34m,\u001b[0m\u001b[0;34m\u001b[0m\n",
       "\u001b[0;34m\u001b[0m    \u001b[0mresume_errored\u001b[0m\u001b[0;34m:\u001b[0m \u001b[0mbool\u001b[0m \u001b[0;34m=\u001b[0m \u001b[0;32mFalse\u001b[0m\u001b[0;34m,\u001b[0m\u001b[0;34m\u001b[0m\n",
       "\u001b[0;34m\u001b[0m    \u001b[0mrestart_errored\u001b[0m\u001b[0;34m:\u001b[0m \u001b[0mbool\u001b[0m \u001b[0;34m=\u001b[0m \u001b[0;32mFalse\u001b[0m\u001b[0;34m,\u001b[0m\u001b[0;34m\u001b[0m\n",
       "\u001b[0;34m\u001b[0m    \u001b[0moverwrite_trainable\u001b[0m\u001b[0;34m:\u001b[0m \u001b[0mUnion\u001b[0m\u001b[0;34m[\u001b[0m\u001b[0mstr\u001b[0m\u001b[0;34m,\u001b[0m \u001b[0mCallable\u001b[0m\u001b[0;34m,\u001b[0m \u001b[0mType\u001b[0m\u001b[0;34m[\u001b[0m\u001b[0mray\u001b[0m\u001b[0;34m.\u001b[0m\u001b[0mtune\u001b[0m\u001b[0;34m.\u001b[0m\u001b[0mtrainable\u001b[0m\u001b[0;34m.\u001b[0m\u001b[0mtrainable\u001b[0m\u001b[0;34m.\u001b[0m\u001b[0mTrainable\u001b[0m\u001b[0;34m]\u001b[0m\u001b[0;34m,\u001b[0m \u001b[0mForwardRef\u001b[0m\u001b[0;34m(\u001b[0m\u001b[0;34m'BaseTrainer'\u001b[0m\u001b[0;34m)\u001b[0m\u001b[0;34m,\u001b[0m \u001b[0mNoneType\u001b[0m\u001b[0;34m]\u001b[0m \u001b[0;34m=\u001b[0m \u001b[0;32mNone\u001b[0m\u001b[0;34m,\u001b[0m\u001b[0;34m\u001b[0m\n",
       "\u001b[0;34m\u001b[0m\u001b[0;34m)\u001b[0m \u001b[0;34m->\u001b[0m \u001b[0;34m'Tuner'\u001b[0m\u001b[0;34m\u001b[0m\u001b[0;34m\u001b[0m\u001b[0m\n",
       "\u001b[0;31mDocstring:\u001b[0m\n",
       "Restores Tuner after a previously failed run.\n",
       "\n",
       "All trials from the existing run will be added to the result table. The\n",
       "argument flags control how existing but unfinished or errored trials are\n",
       "resumed.\n",
       "\n",
       "Finished trials are always added to the overview table. They will not be\n",
       "resumed.\n",
       "\n",
       "Unfinished trials can be controlled with the ``resume_unfinished`` flag.\n",
       "If ``True`` (default), they will be continued. If ``False``, they will\n",
       "be added as terminated trials (even if they were only created and never\n",
       "trained).\n",
       "\n",
       "Errored trials can be controlled with the ``resume_errored`` and\n",
       "``restart_errored`` flags. The former will resume errored trials from\n",
       "their latest checkpoints. The latter will restart errored trials from\n",
       "scratch and prevent loading their last checkpoints.\n",
       "\n",
       "Args:\n",
       "    path: The path where the previous failed run is checkpointed.\n",
       "        This information could be easily located near the end of the\n",
       "        console output of previous run.\n",
       "        Note: depending on whether ray client mode is used or not,\n",
       "        this path may or may not exist on your local machine.\n",
       "    trainable: The trainable to use upon resuming the experiment.\n",
       "        This should be the same trainable that was used to initialize\n",
       "        the original Tuner.\n",
       "        NOTE: Starting in 2.5, this will be a required parameter.\n",
       "    resume_unfinished: If True, will continue to run unfinished trials.\n",
       "    resume_errored: If True, will re-schedule errored trials and try to\n",
       "        restore from their latest checkpoints.\n",
       "    restart_errored: If True, will re-schedule errored trials but force\n",
       "        restarting them from scratch (no checkpoint will be loaded).\n",
       "    overwrite_trainable: Deprecated. Use the `trainable` argument instead.\n",
       "\u001b[0;31mFile:\u001b[0m      ~/nfs/work/larry.lai/AWPooling/lib/python3.8/site-packages/ray/tune/tuner.py\n",
       "\u001b[0;31mType:\u001b[0m      method"
      ]
     },
     "metadata": {},
     "output_type": "display_data"
    }
   ],
   "source": [
    "tune.Tuner.restore?"
   ]
  },
  {
   "cell_type": "code",
   "execution_count": 4,
   "id": "589f7306",
   "metadata": {},
   "outputs": [
    {
     "name": "stderr",
     "output_type": "stream",
     "text": [
      "2023-05-14 15:18:50,188\tINFO worker.py:1553 -- Started a local Ray instance.\n"
     ]
    },
    {
     "data": {
      "text/html": [
       "<div class=\"tuneStatus\">\n",
       "  <div style=\"display: flex;flex-direction: row\">\n",
       "    <div style=\"display: flex;flex-direction: column;\">\n",
       "      <h3>Tune Status</h3>\n",
       "      <table>\n",
       "<tbody>\n",
       "<tr><td>Current time:</td><td>2023-05-14 15:19:14</td></tr>\n",
       "<tr><td>Running for: </td><td>00:00:10.51        </td></tr>\n",
       "<tr><td>Memory:      </td><td>60.7/503.6 GiB     </td></tr>\n",
       "</tbody>\n",
       "</table>\n",
       "    </div>\n",
       "    <div class=\"vDivider\"></div>\n",
       "    <div class=\"systemInfo\">\n",
       "      <h3>System Info</h3>\n",
       "      Using FIFO scheduling algorithm.<br>Resources requested: 0/12 CPUs, 0/2 GPUs, 0.0/53.73 GiB heap, 0.0/26.87 GiB objects (0.0/1.0 accelerator_type:V100)\n",
       "    </div>\n",
       "    \n",
       "  </div>\n",
       "  <div class=\"hDivider\"></div>\n",
       "  <div class=\"trialStatus\">\n",
       "    <h3>Trial Status</h3>\n",
       "    <table>\n",
       "<thead>\n",
       "<tr><th>Trial name   </th><th>status    </th><th>loc              </th><th style=\"text-align: right;\">        a</th><th style=\"text-align: right;\">       b</th><th style=\"text-align: right;\">  iter</th><th style=\"text-align: right;\">  total time (s)</th><th style=\"text-align: right;\">   score</th></tr>\n",
       "</thead>\n",
       "<tbody>\n",
       "<tr><td>F_9441f_00000</td><td>TERMINATED</td><td>10.233.83.2:11578</td><td style=\"text-align: right;\"> 0.875612</td><td style=\"text-align: right;\"> 3.59326</td><td style=\"text-align: right;\">     1</td><td style=\"text-align: right;\">     0.000451326</td><td style=\"text-align: right;\">-1.84203</td></tr>\n",
       "<tr><td>F_9441f_00001</td><td>TERMINATED</td><td>10.233.83.2:11831</td><td style=\"text-align: right;\"> 8.76116 </td><td style=\"text-align: right;\">13.1859 </td><td style=\"text-align: right;\">     1</td><td style=\"text-align: right;\">     0.000419855</td><td style=\"text-align: right;\"> 4.33644</td></tr>\n",
       "<tr><td>F_9441f_00002</td><td>TERMINATED</td><td>10.233.83.2:11833</td><td style=\"text-align: right;\">12.4049  </td><td style=\"text-align: right;\"> 1.6846 </td><td style=\"text-align: right;\">     1</td><td style=\"text-align: right;\">     0.000422001</td><td style=\"text-align: right;\">23.1253 </td></tr>\n",
       "<tr><td>F_9441f_00003</td><td>TERMINATED</td><td>10.233.83.2:11835</td><td style=\"text-align: right;\"> 0.210405</td><td style=\"text-align: right;\"> 5.94633</td><td style=\"text-align: right;\">     1</td><td style=\"text-align: right;\">     0.000360489</td><td style=\"text-align: right;\">-5.52552</td></tr>\n",
       "<tr><td>F_9441f_00004</td><td>TERMINATED</td><td>10.233.83.2:11837</td><td style=\"text-align: right;\">11.6121  </td><td style=\"text-align: right;\">17.124  </td><td style=\"text-align: right;\">     1</td><td style=\"text-align: right;\">     0.000399351</td><td style=\"text-align: right;\"> 6.10014</td></tr>\n",
       "<tr><td>F_9441f_00005</td><td>TERMINATED</td><td>10.233.83.2:11839</td><td style=\"text-align: right;\">13.4373  </td><td style=\"text-align: right;\"> 1.98734</td><td style=\"text-align: right;\">     1</td><td style=\"text-align: right;\">     0.00037694 </td><td style=\"text-align: right;\">24.8873 </td></tr>\n",
       "<tr><td>F_9441f_00006</td><td>TERMINATED</td><td>10.233.83.2:11841</td><td style=\"text-align: right;\"> 8.47207 </td><td style=\"text-align: right;\"> 0.12547</td><td style=\"text-align: right;\">     1</td><td style=\"text-align: right;\">     0.000276804</td><td style=\"text-align: right;\">16.8187 </td></tr>\n",
       "<tr><td>F_9441f_00007</td><td>TERMINATED</td><td>10.233.83.2:11843</td><td style=\"text-align: right;\">12.5954  </td><td style=\"text-align: right;\">15.1513 </td><td style=\"text-align: right;\">     1</td><td style=\"text-align: right;\">     0.000374794</td><td style=\"text-align: right;\">10.0395 </td></tr>\n",
       "<tr><td>F_9441f_00008</td><td>TERMINATED</td><td>10.233.83.2:11845</td><td style=\"text-align: right;\">11.3128  </td><td style=\"text-align: right;\"> 6.44135</td><td style=\"text-align: right;\">     1</td><td style=\"text-align: right;\">     0.00037694 </td><td style=\"text-align: right;\">16.1843 </td></tr>\n",
       "<tr><td>F_9441f_00009</td><td>TERMINATED</td><td>10.233.83.2:11853</td><td style=\"text-align: right;\">14.0062  </td><td style=\"text-align: right;\">18.5766 </td><td style=\"text-align: right;\">     1</td><td style=\"text-align: right;\">     0.000372648</td><td style=\"text-align: right;\"> 9.43568</td></tr>\n",
       "</tbody>\n",
       "</table>\n",
       "  </div>\n",
       "</div>\n",
       "<style>\n",
       ".tuneStatus {\n",
       "  color: var(--jp-ui-font-color1);\n",
       "}\n",
       ".tuneStatus .systemInfo {\n",
       "  display: flex;\n",
       "  flex-direction: column;\n",
       "}\n",
       ".tuneStatus td {\n",
       "  white-space: nowrap;\n",
       "}\n",
       ".tuneStatus .trialStatus {\n",
       "  display: flex;\n",
       "  flex-direction: column;\n",
       "}\n",
       ".tuneStatus h3 {\n",
       "  font-weight: bold;\n",
       "}\n",
       ".tuneStatus .hDivider {\n",
       "  border-bottom-width: var(--jp-border-width);\n",
       "  border-bottom-color: var(--jp-border-color0);\n",
       "  border-bottom-style: solid;\n",
       "}\n",
       ".tuneStatus .vDivider {\n",
       "  border-left-width: var(--jp-border-width);\n",
       "  border-left-color: var(--jp-border-color0);\n",
       "  border-left-style: solid;\n",
       "  margin: 0.5em 1em 0.5em 1em;\n",
       "}\n",
       "</style>\n"
      ],
      "text/plain": [
       "<IPython.core.display.HTML object>"
      ]
     },
     "metadata": {},
     "output_type": "display_data"
    },
    {
     "data": {
      "text/html": [
       "<div class=\"trialProgress\">\n",
       "  <h3>Trial Progress</h3>\n",
       "  <table>\n",
       "<thead>\n",
       "<tr><th>Trial name   </th><th>date               </th><th>done  </th><th>episodes_total  </th><th>experiment_id                   </th><th>experiment_tag       </th><th>hostname                                 </th><th style=\"text-align: right;\">  iterations_since_restore</th><th>node_ip    </th><th style=\"text-align: right;\">  pid</th><th style=\"text-align: right;\">   score</th><th style=\"text-align: right;\">  time_since_restore</th><th style=\"text-align: right;\">  time_this_iter_s</th><th style=\"text-align: right;\">  time_total_s</th><th style=\"text-align: right;\">  timestamp</th><th style=\"text-align: right;\">  timesteps_since_restore</th><th>timesteps_total  </th><th style=\"text-align: right;\">  training_iteration</th><th>trial_id   </th><th style=\"text-align: right;\">  warmup_time</th></tr>\n",
       "</thead>\n",
       "<tbody>\n",
       "<tr><td>F_9441f_00000</td><td>2023-05-14_15-19-08</td><td>True  </td><td>                </td><td>b43e794fb767465e83741014db4d219c</td><td>0_a=0.8756,b=3.5933  </td><td>forge-2wr458lt-310832011-7748c95cd4-8hqfq</td><td style=\"text-align: right;\">                         1</td><td>10.233.83.2</td><td style=\"text-align: right;\">11578</td><td style=\"text-align: right;\">-1.84203</td><td style=\"text-align: right;\">         0.000451326</td><td style=\"text-align: right;\">       0.000451326</td><td style=\"text-align: right;\">   0.000451326</td><td style=\"text-align: right;\"> 1684048748</td><td style=\"text-align: right;\">                        0</td><td>                 </td><td style=\"text-align: right;\">                   1</td><td>9441f_00000</td><td style=\"text-align: right;\">   0.00913882</td></tr>\n",
       "<tr><td>F_9441f_00001</td><td>2023-05-14_15-19-14</td><td>True  </td><td>                </td><td>8c737d81a92e4824af32854f4f9e7791</td><td>1_a=8.7612,b=13.1859 </td><td>forge-2wr458lt-310832011-7748c95cd4-8hqfq</td><td style=\"text-align: right;\">                         1</td><td>10.233.83.2</td><td style=\"text-align: right;\">11831</td><td style=\"text-align: right;\"> 4.33644</td><td style=\"text-align: right;\">         0.000419855</td><td style=\"text-align: right;\">       0.000419855</td><td style=\"text-align: right;\">   0.000419855</td><td style=\"text-align: right;\"> 1684048754</td><td style=\"text-align: right;\">                        0</td><td>                 </td><td style=\"text-align: right;\">                   1</td><td>9441f_00001</td><td style=\"text-align: right;\">   0.00562906</td></tr>\n",
       "<tr><td>F_9441f_00002</td><td>2023-05-14_15-19-14</td><td>True  </td><td>                </td><td>17be0377886b4ac6a3db556cafa3f478</td><td>2_a=12.4049,b=1.6846 </td><td>forge-2wr458lt-310832011-7748c95cd4-8hqfq</td><td style=\"text-align: right;\">                         1</td><td>10.233.83.2</td><td style=\"text-align: right;\">11833</td><td style=\"text-align: right;\">23.1253 </td><td style=\"text-align: right;\">         0.000422001</td><td style=\"text-align: right;\">       0.000422001</td><td style=\"text-align: right;\">   0.000422001</td><td style=\"text-align: right;\"> 1684048754</td><td style=\"text-align: right;\">                        0</td><td>                 </td><td style=\"text-align: right;\">                   1</td><td>9441f_00002</td><td style=\"text-align: right;\">   0.00616026</td></tr>\n",
       "<tr><td>F_9441f_00003</td><td>2023-05-14_15-19-14</td><td>True  </td><td>                </td><td>11abdebfe79b4ce38512b20226219465</td><td>3_a=0.2104,b=5.9463  </td><td>forge-2wr458lt-310832011-7748c95cd4-8hqfq</td><td style=\"text-align: right;\">                         1</td><td>10.233.83.2</td><td style=\"text-align: right;\">11835</td><td style=\"text-align: right;\">-5.52552</td><td style=\"text-align: right;\">         0.000360489</td><td style=\"text-align: right;\">       0.000360489</td><td style=\"text-align: right;\">   0.000360489</td><td style=\"text-align: right;\"> 1684048754</td><td style=\"text-align: right;\">                        0</td><td>                 </td><td style=\"text-align: right;\">                   1</td><td>9441f_00003</td><td style=\"text-align: right;\">   0.00653028</td></tr>\n",
       "<tr><td>F_9441f_00004</td><td>2023-05-14_15-19-14</td><td>True  </td><td>                </td><td>393f9a1219604fd3a8f5752eb62634ac</td><td>4_a=11.6121,b=17.1240</td><td>forge-2wr458lt-310832011-7748c95cd4-8hqfq</td><td style=\"text-align: right;\">                         1</td><td>10.233.83.2</td><td style=\"text-align: right;\">11837</td><td style=\"text-align: right;\"> 6.10014</td><td style=\"text-align: right;\">         0.000399351</td><td style=\"text-align: right;\">       0.000399351</td><td style=\"text-align: right;\">   0.000399351</td><td style=\"text-align: right;\"> 1684048754</td><td style=\"text-align: right;\">                        0</td><td>                 </td><td style=\"text-align: right;\">                   1</td><td>9441f_00004</td><td style=\"text-align: right;\">   0.00719094</td></tr>\n",
       "<tr><td>F_9441f_00005</td><td>2023-05-14_15-19-14</td><td>True  </td><td>                </td><td>1ee01ac5a60b401182c2103add9adeaa</td><td>5_a=13.4373,b=1.9873 </td><td>forge-2wr458lt-310832011-7748c95cd4-8hqfq</td><td style=\"text-align: right;\">                         1</td><td>10.233.83.2</td><td style=\"text-align: right;\">11839</td><td style=\"text-align: right;\">24.8873 </td><td style=\"text-align: right;\">         0.00037694 </td><td style=\"text-align: right;\">       0.00037694 </td><td style=\"text-align: right;\">   0.00037694 </td><td style=\"text-align: right;\"> 1684048754</td><td style=\"text-align: right;\">                        0</td><td>                 </td><td style=\"text-align: right;\">                   1</td><td>9441f_00005</td><td style=\"text-align: right;\">   0.0090394 </td></tr>\n",
       "<tr><td>F_9441f_00006</td><td>2023-05-14_15-19-14</td><td>True  </td><td>                </td><td>1eaea5b2fdc64c6b9d9303f77e7bca55</td><td>6_a=8.4721,b=0.1255  </td><td>forge-2wr458lt-310832011-7748c95cd4-8hqfq</td><td style=\"text-align: right;\">                         1</td><td>10.233.83.2</td><td style=\"text-align: right;\">11841</td><td style=\"text-align: right;\">16.8187 </td><td style=\"text-align: right;\">         0.000276804</td><td style=\"text-align: right;\">       0.000276804</td><td style=\"text-align: right;\">   0.000276804</td><td style=\"text-align: right;\"> 1684048754</td><td style=\"text-align: right;\">                        0</td><td>                 </td><td style=\"text-align: right;\">                   1</td><td>9441f_00006</td><td style=\"text-align: right;\">   0.00617766</td></tr>\n",
       "<tr><td>F_9441f_00007</td><td>2023-05-14_15-19-14</td><td>True  </td><td>                </td><td>b8bc592bf73648fd929ca69291ae91f7</td><td>7_a=12.5954,b=15.1513</td><td>forge-2wr458lt-310832011-7748c95cd4-8hqfq</td><td style=\"text-align: right;\">                         1</td><td>10.233.83.2</td><td style=\"text-align: right;\">11843</td><td style=\"text-align: right;\">10.0395 </td><td style=\"text-align: right;\">         0.000374794</td><td style=\"text-align: right;\">       0.000374794</td><td style=\"text-align: right;\">   0.000374794</td><td style=\"text-align: right;\"> 1684048754</td><td style=\"text-align: right;\">                        0</td><td>                 </td><td style=\"text-align: right;\">                   1</td><td>9441f_00007</td><td style=\"text-align: right;\">   0.00601983</td></tr>\n",
       "<tr><td>F_9441f_00008</td><td>2023-05-14_15-19-14</td><td>True  </td><td>                </td><td>08f3a707f6964d99b339160b3a5d6466</td><td>8_a=11.3128,b=6.4413 </td><td>forge-2wr458lt-310832011-7748c95cd4-8hqfq</td><td style=\"text-align: right;\">                         1</td><td>10.233.83.2</td><td style=\"text-align: right;\">11845</td><td style=\"text-align: right;\">16.1843 </td><td style=\"text-align: right;\">         0.00037694 </td><td style=\"text-align: right;\">       0.00037694 </td><td style=\"text-align: right;\">   0.00037694 </td><td style=\"text-align: right;\"> 1684048754</td><td style=\"text-align: right;\">                        0</td><td>                 </td><td style=\"text-align: right;\">                   1</td><td>9441f_00008</td><td style=\"text-align: right;\">   0.006495  </td></tr>\n",
       "<tr><td>F_9441f_00009</td><td>2023-05-14_15-19-14</td><td>True  </td><td>                </td><td>692f5029e4bd4ed2abc1716236eed520</td><td>9_a=14.0062,b=18.5766</td><td>forge-2wr458lt-310832011-7748c95cd4-8hqfq</td><td style=\"text-align: right;\">                         1</td><td>10.233.83.2</td><td style=\"text-align: right;\">11853</td><td style=\"text-align: right;\"> 9.43568</td><td style=\"text-align: right;\">         0.000372648</td><td style=\"text-align: right;\">       0.000372648</td><td style=\"text-align: right;\">   0.000372648</td><td style=\"text-align: right;\"> 1684048754</td><td style=\"text-align: right;\">                        0</td><td>                 </td><td style=\"text-align: right;\">                   1</td><td>9441f_00009</td><td style=\"text-align: right;\">   0.0059526 </td></tr>\n",
       "</tbody>\n",
       "</table>\n",
       "</div>\n",
       "<style>\n",
       ".trialProgress {\n",
       "  display: flex;\n",
       "  flex-direction: column;\n",
       "  color: var(--jp-ui-font-color1);\n",
       "}\n",
       ".trialProgress h3 {\n",
       "  font-weight: bold;\n",
       "}\n",
       ".trialProgress td {\n",
       "  white-space: nowrap;\n",
       "}\n",
       "</style>\n"
      ],
      "text/plain": [
       "<IPython.core.display.HTML object>"
      ]
     },
     "metadata": {},
     "output_type": "display_data"
    },
    {
     "name": "stderr",
     "output_type": "stream",
     "text": [
      "2023-05-14 15:19:14,599\tINFO tune.py:798 -- Total run time: 22.28 seconds (10.49 seconds for the tuning loop).\n"
     ]
    },
    {
     "data": {
      "text/plain": [
       "<ray.tune.result_grid.ResultGrid at 0x7fa0fc190040>"
      ]
     },
     "execution_count": 4,
     "metadata": {},
     "output_type": "execute_result"
    }
   ],
   "source": [
    "search_space = {\n",
    "    'a': tune.uniform(0, 20),\n",
    "    'b': tune.uniform(0, 20),\n",
    "}\n",
    "\n",
    "tune_config = tune.TuneConfig(\n",
    "    num_samples=10,\n",
    ")\n",
    "\n",
    "run_config = ray.air.config.RunConfig(\n",
    "    name='test',\n",
    "    local_dir='HPO',\n",
    ")\n",
    "\n",
    "tuner = tune.Tuner(\n",
    "    F,\n",
    "    tune_config=tune_config,\n",
    "    run_config=run_config,\n",
    "    param_space=search_space,\n",
    ")\n",
    "\n",
    "tuner.fit()"
   ]
  },
  {
   "cell_type": "code",
   "execution_count": 9,
   "id": "2e8c8761",
   "metadata": {},
   "outputs": [
    {
     "name": "stdout",
     "output_type": "stream",
     "text": [
      "{'acc': [(0.561199963092804, 's'), (0.5543999671936035, 'a'), (0.5496000051498413, 's'), (0.5496000051498413, 'a')], 'pool': 'assa'}\n",
      "{'acc': [(0.5601999759674072, 'a'), (0.5511999726295471, 's'), (0.5496000051498413, 's'), (0.5425999760627747, 's')], 'pool': 'asss'}\n",
      "{'acc': [(0.5601999759674072, 's'), (0.5573999881744385, 'a'), (0.5532000064849854, 's'), (0.5529999732971191, 'a'), (0.5509999990463257, 's'), (0.5501999855041504, 's'), (0.5501999855041504, 'a'), (0.5478000044822693, 's'), (0.5471999645233154, 's'), (0.5453999638557434, 's'), (0.5447999835014343, 's')], 'pool': 'aaaa'}\n",
      "{'acc': [(0.5582000017166138, 's'), (0.5569999814033508, 's'), (0.5507999658584595, 's'), (0.5491999983787537, 'a'), (0.5478000044822693, 's'), (0.54339998960495, 's'), (0.5356000065803528, 's')], 'pool': 'aass'}\n",
      "{'acc': [(0.5561999678611755, 'a'), (0.5559999942779541, 'a'), (0.5546000003814697, 'a'), (0.5507999658584595, 'a'), (0.5507999658584595, 'a'), (0.550599992275238, 's'), (0.5489999651908875, 's'), (0.5478000044822693, 'a'), (0.546999990940094, 's'), (0.5465999841690063, 'a'), (0.5446000099182129, 'a')], 'pool': 'ssaa'}\n",
      "{'acc': [(0.5557999610900879, 'a'), (0.553600013256073, 'a'), (0.5523999929428101, 'a'), (0.5509999990463257, 's'), (0.5483999848365784, 'a'), (0.5479999780654907, 'a'), (0.5461999773979187, 'a'), (0.5460000038146973, 's')], 'pool': 'aasa'}\n",
      "{'acc': [(0.5557999610900879, 'a'), (0.5555999875068665, 'a'), (0.550599992275238, 's'), (0.5491999983787537, 'a'), (0.5489999651908875, 'a'), (0.548799991607666, 'a'), (0.5485999584197998, 'a'), (0.5485999584197998, 's'), (0.5467999577522278, 'a')], 'pool': 'saas'}\n",
      "{'acc': [(0.5557999610900879, 'a'), (0.5533999800682068, 'a'), (0.5511999726295471, 'a'), (0.5511999726295471, 's'), (0.5483999848365784, 's'), (0.5473999977111816, 'a'), (0.5461999773979187, 'a'), (0.54339998960495, 'a')], 'pool': 'saaa'}\n",
      "{'acc': [(0.5547999739646912, 'a'), (0.5514000058174133, 'a'), (0.5511999726295471, 'a'), (0.550000011920929, 's'), (0.5497999787330627, 's'), (0.5496000051498413, 's'), (0.5491999983787537, 's'), (0.546999990940094, 'a'), (0.5460000038146973, 's'), (0.5442000031471252, 's')], 'pool': 'asaa'}\n",
      "{'acc': [(0.5547999739646912, 'a'), (0.5519999861717224, 'a'), (0.5511999726295471, 's'), (0.5467999577522278, 's'), (0.5357999801635742, 's')], 'pool': 'ssas'}\n",
      "{'acc': [(0.5546000003814697, 's')], 'pool': 'mssa'}\n",
      "{'acc': [(0.5527999997138977, 'a'), (0.545199990272522, 'a'), (0.5447999835014343, 's')], 'pool': 'sass'}\n",
      "{'acc': [(0.5525999665260315, 'a'), (0.5519999861717224, 's')], 'pool': 'sssa'}\n",
      "{'acc': [(0.5521999597549438, 'a'), (0.5519999861717224, 'a'), (0.5497999787330627, 'a'), (0.5496000051498413, 'a'), (0.5493999719619751, 'a'), (0.5485999584197998, 'a'), (0.5437999963760376, 'a'), (0.5414000153541565, 's'), (0.5399999618530273, 's')], 'pool': 'ssss'}\n",
      "{'acc': [(0.550000011920929, 's'), (0.5473999977111816, 's'), (0.5447999835014343, 's')], 'pool': 'aaas'}\n",
      "{'acc': [(0.5497999787330627, 'a')], 'pool': 'asas'}\n",
      "{'acc': [(0.5478000044822693, 'a'), (0.545199990272522, 'a'), (0.5414000153541565, 'a')], 'pool': 'sasa'}\n",
      "{'acc': [(0.5429999828338623, 'a')], 'pool': 'ssms'}\n"
     ]
    }
   ],
   "source": [
    "import pandas as pd\n",
    "import matplotlib.pyplot as plt\n",
    "import matplotlib.ticker\n",
    "from glob import glob\n",
    "import numpy as np\n",
    "import os\n",
    "\n",
    "csv_path = glob('HPO/tiny-imagenet/scratch/vgg19aw/*.csv')\n",
    "save_path = 'HPO/performance'\n",
    "analysis = []\n",
    "\n",
    "for path in csv_path: # read expermiment record\n",
    "    model_name = path.split('/')[-2]\n",
    "    csv = pd.read_csv(path)\n",
    "    \n",
    "    for index, row in csv.iterrows():\n",
    "        acc = row['accs']\n",
    "        tmp = {'acc': acc, 'pool': []}\n",
    "        for tem in row['tems'].split(','):\n",
    "            if tem == '':\n",
    "                break\n",
    "            \n",
    "            name, t = tem.split('=')\n",
    "            t = float(t)\n",
    "            \n",
    "            if t <= 0.1:\n",
    "                tmp['pool'].append('max')\n",
    "            elif t >= 5:\n",
    "                tmp['pool'].append('avg')\n",
    "            else:\n",
    "                tmp['pool'].append('sw')\n",
    "        analysis.append(tmp)\n",
    "        \n",
    "\n",
    "    \n",
    "#     # plot result\n",
    "#     for k, v in analysis.items():\n",
    "        \n",
    "#         plt.title(f'Model performace {k}')\n",
    "#         plt.xticks(np.arange(0, 11, 1))\n",
    "#         plt.xlabel(\"Temperature\")\n",
    "#         plt.ylabel(\"Accuracy\")\n",
    "#         plt.scatter(*zip(*v['max']), c='g', marker=6, label='max')\n",
    "#         plt.scatter(*zip(*v['avg']), c='b', marker=6, label='avg')\n",
    "#         plt.scatter(*zip(*v['sw']), c='r', marker=6, label='sw')\n",
    "#         plt.legend(loc=1)\n",
    "#         plt.savefig(os.path.join(save_path, f'{model_name}_{k}.png'))\n",
    "#         plt.clf()\n",
    "                  \n",
    "# csv = pd.read_csv(csv_path[0])\n",
    "# for index, row in csv.iterrows():\n",
    "#     tem = row['tems'].split(',')\n",
    "#     t0 = float(tem[0][3:])\n",
    "#     t4 = float(tem[4][3:])\n",
    "#     acc = row['accs']\n",
    "#     if t4 < 1:\n",
    "#         analysis['max'].append((t4, acc))\n",
    "#     elif t4 > 5:\n",
    "#         analysis['avg'].append((t4, acc))\n",
    "#     else:\n",
    "#         analysis['sw'].append((t4, acc))\n",
    "        \n",
    "# plt.title(f'Independent analysis {t}')\n",
    "# plt.xticks(np.arange(0, 11, 1))\n",
    "# plt.scatter(*zip(*analysis['max']), c='g')\n",
    "# plt.scatter(*zip(*analysis['avg']), c='b')\n",
    "# plt.scatter(*zip(*analysis['sw']), c='r')\n",
    "# plt.savefig(os.path.join(save_path, f'{t}_acc.png'))\n",
    "# plt.show()\n"
   ]
  },
  {
   "cell_type": "code",
   "execution_count": 69,
   "id": "c18fbaab",
   "metadata": {},
   "outputs": [
    {
     "data": {
      "text/plain": [
       "torch.Size([3])"
      ]
     },
     "execution_count": 69,
     "metadata": {},
     "output_type": "execute_result"
    }
   ],
   "source": []
  },
  {
   "cell_type": "code",
   "execution_count": 73,
   "id": "825b3a0e",
   "metadata": {},
   "outputs": [
    {
     "ename": "RuntimeError",
     "evalue": "shape '[100, 200]' is invalid for input of size 6400",
     "output_type": "error",
     "traceback": [
      "\u001b[0;31m---------------------------------------------------------------------------\u001b[0m",
      "\u001b[0;31mRuntimeError\u001b[0m                              Traceback (most recent call last)",
      "Cell \u001b[0;32mIn[73], line 2\u001b[0m\n\u001b[1;32m      1\u001b[0m b \u001b[38;5;241m=\u001b[39m torch\u001b[38;5;241m.\u001b[39mrand(\u001b[38;5;241m80\u001b[39m, \u001b[38;5;241m80\u001b[39m)\n\u001b[0;32m----> 2\u001b[0m \u001b[43mb\u001b[49m\u001b[38;5;241;43m.\u001b[39;49m\u001b[43mview\u001b[49m\u001b[43m(\u001b[49m\u001b[38;5;241;43m100\u001b[39;49m\u001b[43m,\u001b[49m\u001b[43m \u001b[49m\u001b[38;5;241;43m200\u001b[39;49m\u001b[43m)\u001b[49m\n",
      "\u001b[0;31mRuntimeError\u001b[0m: shape '[100, 200]' is invalid for input of size 6400"
     ]
    }
   ],
   "source": []
  },
  {
   "cell_type": "code",
   "execution_count": 52,
   "id": "40d37431",
   "metadata": {},
   "outputs": [],
   "source": [
    "import torch\n",
    "import torch.nn as nn\n",
    "from models.awpooling import *\n",
    "from torchvision.datasets import ImageFolder\n",
    "from torchvision.transforms import transforms\n",
    "from torch.utils.tensorboard import SummaryWriter\n",
    "\n",
    "from models.vggaw import VGG11AW, VGG11AWT\n",
    "import os\n",
    "\n",
    "h = 1e-4\n",
    "writer = SummaryWriter(log_dir=os.path.join('Gradient_analysis', f'delta={h}'))\n",
    "normalize = transforms.Normalize(mean=[0.485, 0.456, 0.406], std=[0.229, 0.224, 0.225])\n",
    "ds = ImageFolder(root='/home/larry/Datasets/tiny-imagenet-200/train', transform=transforms.Compose([\n",
    "    transforms.RandomHorizontalFlip(),\n",
    "    transforms.ToTensor(),\n",
    "    normalize\n",
    "]))\n",
    "loader = torch.utils.data.DataLoader(ds, shuffle=True, batch_size=128, num_workers=2)"
   ]
  },
  {
   "cell_type": "code",
   "execution_count": 42,
   "id": "63f8e9ad",
   "metadata": {},
   "outputs": [],
   "source": [
    "class Net(nn.Module):\n",
    "    def __init__(self, num_class=200):\n",
    "        super(Net, self).__init__()\n",
    "        self.conv1 = nn.Sequential(\n",
    "            nn.Conv2d(3, 64, kernel_size=3, padding=1),\n",
    "            nn.ReLU(),\n",
    "            nn.BatchNorm2d(64),\n",
    "            nn.Conv2d(64, 64, kernel_size=3, padding=1),\n",
    "            nn.ReLU(),\n",
    "            nn.BatchNorm2d(64),\n",
    "        )\n",
    "        self.aw1 = AWPool2d_()\n",
    "\n",
    "        # self.conv2 = nn.Sequential(\n",
    "        #     nn.Conv2d(64, 128, kernel_size=3, padding=1),\n",
    "        #     nn.ReLU(),\n",
    "        #     nn.BatchNorm2d(128),\n",
    "        #     nn.Conv2d(128, 128, kernel_size=3, padding=1),\n",
    "        #     nn.ReLU(),\n",
    "        #     nn.BatchNorm2d(128),\n",
    "        # )\n",
    "        # self.aw2 = AWPool2d_()\n",
    "    \n",
    "        self.globalavg = nn.AdaptiveAvgPool2d(1)\n",
    "        self.classifier = nn.Sequential(\n",
    "            nn.Linear(64, 256),\n",
    "            nn.ReLU(),\n",
    "            # nn.Dropout(),\n",
    "            nn.Linear(256, 256),\n",
    "            nn.ReLU(),\n",
    "            # nn.Dropout(),\n",
    "            nn.Linear(256, num_class),\n",
    "        )\n",
    "\n",
    "    def forward(self, x):\n",
    "        x = self.conv1(x)\n",
    "        x = self.aw1(x)\n",
    "        x = self.globalavg(x)\n",
    "        x = torch.flatten(x, start_dim=1)\n",
    "        x = self.classifier(x)\n",
    "        return x\n",
    "\n",
    "    def _initialize_weights(self) -> None:\n",
    "        for m in self.modules():\n",
    "            if isinstance(m, nn.Conv2d):\n",
    "                nn.init.kaiming_normal_(m.weight, mode='fan_out', nonlinearity='relu')\n",
    "                if m.bias is not None:\n",
    "                    nn.init.constant_(m.bias, 0)\n",
    "            elif isinstance(m, nn.BatchNorm2d):\n",
    "                nn.init.constant_(m.weight, 1)\n",
    "                nn.init.constant_(m.bias, 0)\n",
    "            elif isinstance(m, nn.Linear):\n",
    "                nn.init.normal_(m.weight, 0, 0.01)\n",
    "                nn.init.constant_(m.bias, 0)\n",
    "    def set_t(self, t):\n",
    "        self.aw1.t = t\n"
   ]
  },
  {
   "cell_type": "code",
   "execution_count": 43,
   "id": "eabd9e6d",
   "metadata": {},
   "outputs": [
    {
     "data": {
      "text/plain": [
       "Net(\n",
       "  (conv1): Sequential(\n",
       "    (0): Conv2d(3, 64, kernel_size=(3, 3), stride=(1, 1), padding=(1, 1))\n",
       "    (1): ReLU()\n",
       "    (2): BatchNorm2d(64, eps=1e-05, momentum=0.1, affine=True, track_running_stats=True)\n",
       "    (3): Conv2d(64, 64, kernel_size=(3, 3), stride=(1, 1), padding=(1, 1))\n",
       "    (4): ReLU()\n",
       "    (5): BatchNorm2d(64, eps=1e-05, momentum=0.1, affine=True, track_running_stats=True)\n",
       "  )\n",
       "  (aw1): AWPool2d_()\n",
       "  (globalavg): AdaptiveAvgPool2d(output_size=1)\n",
       "  (classifier): Sequential(\n",
       "    (0): Linear(in_features=64, out_features=256, bias=True)\n",
       "    (1): ReLU()\n",
       "    (2): Linear(in_features=256, out_features=256, bias=True)\n",
       "    (3): ReLU()\n",
       "    (4): Linear(in_features=256, out_features=200, bias=True)\n",
       "  )\n",
       ")"
      ]
     },
     "execution_count": 43,
     "metadata": {},
     "output_type": "execute_result"
    }
   ],
   "source": [
    "model = Net()\n",
    "params = [{'params': p, 'lr': 0.1} for n, p in model.named_parameters() if 'aw' not in n]\n",
    "optimizer = torch.optim.SGD(params)\n",
    "criterion = nn.CrossEntropyLoss()\n",
    "device = torch.device(\"cuda\" if torch.cuda.is_available() else \"cpu\")\n",
    "model.to(device)"
   ]
  },
  {
   "cell_type": "code",
   "execution_count": 44,
   "id": "39b14074",
   "metadata": {},
   "outputs": [],
   "source": [
    "for i, data in enumerate(loader):\n",
    "    model.aw1.t.requires_grad = True\n",
    "    images, label = data\n",
    "    images = images.to(device)\n",
    "    label = label.to(device)\n",
    "\n",
    "    # Autograd\n",
    "    logits = model(images)\n",
    "    base_loss = criterion(logits, label)\n",
    "    base_loss.backward()\n",
    "    writer.add_scalar('Automatic gardient', model.aw1.t.grad, i)\n",
    "\n",
    "    # caculate numercial difference\n",
    "    with torch.no_grad():\n",
    "        model.aw1.t.requires_grad = False\n",
    "        origin_t = model.aw1.t.item()\n",
    "\n",
    "        # forward\n",
    "        model.aw1.t.copy_(torch.tensor(origin_t + h))\n",
    "        logits = model(images)\n",
    "        forward_loss = criterion(logits, label)\n",
    "\n",
    "        # backward\n",
    "        model.aw1.t.copy_(torch.tensor(origin_t - h))\n",
    "        logits = model(images)\n",
    "        backward_loss = criterion(logits, label)\n",
    "\n",
    "        writer.add_scalar('Forward difference', (forward_loss - base_loss) / h, i)\n",
    "        writer.add_scalar('Backward difference', (base_loss - backward_loss) / h, i)\n",
    "        writer.add_scalar('Central difference', (forward_loss - backward_loss) / (2 * h), i)\n",
    "\n",
    "    model.aw1.t.copy_(torch.tensor(origin_t))\n",
    "\n",
    "    optimizer.step()\n",
    "    optimizer.zero_grad()\n",
    "    model.aw1.t.grad.zero_()\n",
    "    "
   ]
  },
  {
   "cell_type": "code",
   "execution_count": 33,
   "id": "7808bf9e",
   "metadata": {},
   "outputs": [
    {
     "name": "stdout",
     "output_type": "stream",
     "text": [
      "The tensorboard extension is already loaded. To reload it, use:\n",
      "  %reload_ext tensorboard\n"
     ]
    }
   ],
   "source": [
    "# Load the TensorBoard notebook extension\n",
    "%load_ext tensorboard"
   ]
  },
  {
   "cell_type": "code",
   "execution_count": 34,
   "id": "75677291",
   "metadata": {},
   "outputs": [
    {
     "data": {
      "text/html": [
       "\n",
       "      <iframe id=\"tensorboard-frame-56a11fc98e5285b0\" width=\"100%\" height=\"800\" frameborder=\"0\">\n",
       "      </iframe>\n",
       "      <script>\n",
       "        (function() {\n",
       "          const frame = document.getElementById(\"tensorboard-frame-56a11fc98e5285b0\");\n",
       "          const url = new URL(\"/\", window.location);\n",
       "          const port = 6006;\n",
       "          if (port) {\n",
       "            url.port = port;\n",
       "          }\n",
       "          frame.src = url;\n",
       "        })();\n",
       "      </script>\n",
       "    "
      ],
      "text/plain": [
       "<IPython.core.display.HTML object>"
      ]
     },
     "metadata": {},
     "output_type": "display_data"
    }
   ],
   "source": [
    "%tensorboard --logdir Gradient_analysis"
   ]
  },
  {
   "cell_type": "code",
   "execution_count": 5,
   "id": "af0de099",
   "metadata": {},
   "outputs": [
    {
     "name": "stdout",
     "output_type": "stream",
     "text": [
      "tensor([0.0037], device='cuda:0')\n"
     ]
    }
   ],
   "source": [
    "logits = model(x)\n",
    "loss = criterion(logits, y)\n",
    "loss.backward()\n",
    "print(model.aw1.t.grad)"
   ]
  },
  {
   "cell_type": "code",
   "execution_count": null,
   "id": "b05ebfc2",
   "metadata": {},
   "outputs": [],
   "source": [
    "model.aw1.t.requires_grad = False\n",
    "logits = model(x)\n",
    "base = criterion(logits, y)"
   ]
  },
  {
   "cell_type": "code",
   "execution_count": 12,
   "id": "33d0e040",
   "metadata": {},
   "outputs": [
    {
     "name": "stdout",
     "output_type": "stream",
     "text": [
      "1.0019999742507935\n",
      "0.9980000257492065\n",
      "base loss: 5.295560836791992\n",
      "forward loss: 5.295570373535156\n",
      "backward loss: 5.29556131362915\n",
      "forward difference: 0.004768371116369963\n",
      "backward difference: -0.00023841856454964727\n",
      "central difference: 0.0022649762686342\n"
     ]
    }
   ],
   "source": [
    "# compute forward loss\n",
    "model.aw1.t.copy_(torch.tensor(origin_t + h))\n",
    "print(model.aw1.t.item())\n",
    "logits = model(x)\n",
    "forward = criterion(logits, y)\n",
    "model.aw1.t.copy_(torch.tensor(origin_t - h))\n",
    "print(model.aw1.t.item())\n",
    "logits = model(x)\n",
    "backward = criterion(logits, y)\n",
    "\n",
    "model.aw1.t.copy_(torch.tensor(origin_t))\n",
    "print(f'base loss: {base.item()}\\nforward loss: {forward.item()}\\nbackward loss: {backward.item()}\\n'\\\n",
    "      f'forward difference: {(forward - base) / h}\\n'\\\n",
    "      f'backward difference: {(base - backward) / h}\\n'\\\n",
    "      f'central difference: {(forward - backward) / (2 * h)}')\n"
   ]
  },
  {
   "cell_type": "code",
   "execution_count": 13,
   "id": "81754f5d",
   "metadata": {},
   "outputs": [],
   "source": [
    "def compute_numerical(model, func, x, h=1e-4):\n",
    "    logits = func(x)\n",
    "    forward = func(x + h)\n",
    "    backward = func(x - h)\n",
    "\n",
    "    print(f'forward difference {(forward - logits) / h}\\nbackward difference: {(logits - backward) / h}\\ncentral difference: {(forward-backward)/ (2* h)}')"
   ]
  },
  {
   "cell_type": "code",
   "execution_count": null,
   "id": "f385ad7e",
   "metadata": {},
   "outputs": [],
   "source": [
    "def softmax_t(x, t=1):\n",
    "    return np.exp(x / t) / np.sum(np.exp(x / t))"
   ]
  },
  {
   "cell_type": "code",
   "execution_count": 2,
   "id": "a85d6334",
   "metadata": {},
   "outputs": [],
   "source": [
    "def softmax_pool(x, t):\n",
    "    return x.dot(softmax_t(x, t))"
   ]
  },
  {
   "cell_type": "code",
   "execution_count": 134,
   "id": "e4f556fe",
   "metadata": {},
   "outputs": [
    {
     "name": "stdout",
     "output_type": "stream",
     "text": [
      "0.05000000074505806 tensor(3.)\n"
     ]
    }
   ],
   "source": [
    "a = torch.tensor(0.05)\n",
    "b = a.item()\n",
    "a.copy_(torch.tensor(3))\n",
    "print(b, a)\n"
   ]
  },
  {
   "cell_type": "code",
   "execution_count": null,
   "id": "67f1558e",
   "metadata": {},
   "outputs": [],
   "source": []
  }
 ],
 "metadata": {
  "kernelspec": {
   "display_name": "SWPooling",
   "language": "python",
   "name": "swpooling"
  },
  "language_info": {
   "codemirror_mode": {
    "name": "ipython",
    "version": 3
   },
   "file_extension": ".py",
   "mimetype": "text/x-python",
   "name": "python",
   "nbconvert_exporter": "python",
   "pygments_lexer": "ipython3",
   "version": "3.8.10"
  },
  "vscode": {
   "interpreter": {
    "hash": "767d51c1340bd893661ea55ea3124f6de3c7a262a8b4abca0554b478b1e2ff90"
   }
  }
 },
 "nbformat": 4,
 "nbformat_minor": 5
}
