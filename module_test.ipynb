{
 "cells": [
  {
   "cell_type": "code",
   "execution_count": 1,
   "id": "d0e24307",
   "metadata": {},
   "outputs": [],
   "source": [
    "import torch\n",
    "import torch.nn as nn\n",
    "from torch.autograd import Variable\n",
    "import torchvision\n",
    "from models.awpooling import AWPool2d, AWPool2d_\n",
    "from models.vggaw import VGG11\n",
    "# from models.vgg import "
   ]
  },
  {
   "cell_type": "code",
   "execution_count": 2,
   "id": "98a2128c",
   "metadata": {},
   "outputs": [
    {
     "name": "stdout",
     "output_type": "stream",
     "text": [
      "Files already downloaded and verified\n"
     ]
    }
   ],
   "source": [
    "train_ds = torchvision.datasets.CIFAR100(root='/notebooks/nfs/work/dataset', train=True, download=True, transform=torchvision.transforms.ToTensor())\n",
    "train_loader = torch.utils.data.DataLoader(train_ds, batch_size=128 , num_workers=2)\n",
    "images, labels = next(iter(train_loader))\n",
    "t = Variable(torch.Tensor([1., 1., 1., 1., 1.]), requires_grad=True)"
   ]
  },
  {
   "cell_type": "code",
   "execution_count": 44,
   "id": "40969733",
   "metadata": {},
   "outputs": [],
   "source": [
    "class VGG11(nn.Module):\n",
    "    def __init__(self, num_class=100, init_weights=True):\n",
    "        super(VGG11, self).__init__()\n",
    "        self.temperature = Variable(torch.Tensor([1., 1., 1., 1., 1.]), requires_grad=True)\n",
    "        self.conv1 = nn.Sequential(\n",
    "            nn.Conv2d(3, 64, kernel_size=3, padding=1),\n",
    "            nn.ReLU(inplace=True),\n",
    "            nn.BatchNorm2d(64),\n",
    "        )\n",
    "        self.aw1 = AWPool2d(kernel_size=2, stride=2, temperature=self.temperature[0])\n",
    "        \n",
    "        self.conv2 = nn.Sequential(\n",
    "            nn.Conv2d(64, 128, kernel_size=3, padding=1),\n",
    "            nn.ReLU(inplace=True),\n",
    "            nn.BatchNorm2d(128),\n",
    "        )\n",
    "        self.aw2 = AWPool2d(kernel_size=2, stride=2, temperature=self.temperature[1])\n",
    "        \n",
    "        self.conv3 = nn.Sequential(\n",
    "            nn.Conv2d(128, 256, kernel_size=3, padding=1),\n",
    "            nn.ReLU(inplace=True),\n",
    "            nn.BatchNorm2d(256),\n",
    "            nn.Conv2d(256, 256, kernel_size=3, padding=1),\n",
    "            nn.ReLU(inplace=True),\n",
    "            nn.BatchNorm2d(256)\n",
    "        )\n",
    "        self.aw3 = AWPool2d(kernel_size=2, stride=2, temperature=self.temperature[2])\n",
    "        \n",
    "        self.conv4 = nn.Sequential(\n",
    "            nn.Conv2d(256, 512, kernel_size=3, padding=1),\n",
    "            nn.ReLU(inplace=True),\n",
    "            nn.BatchNorm2d(512),\n",
    "            nn.Conv2d(512, 512, kernel_size=3, padding=1),\n",
    "            nn.ReLU(inplace=True),\n",
    "            nn.BatchNorm2d(512),\n",
    "        )\n",
    "        self.aw4 = AWPool2d(kernel_size=2, stride=2, temperature=self.temperature[3])\n",
    "        \n",
    "        self.conv5 = nn.Sequential(\n",
    "            nn.Conv2d(512, 512, kernel_size=3, padding=1),\n",
    "            nn.ReLU(inplace=True),\n",
    "            nn.BatchNorm2d(512),\n",
    "            nn.Conv2d(512, 512, kernel_size=3, padding=1),\n",
    "            nn.ReLU(inplace=True),\n",
    "            nn.BatchNorm2d(512),\n",
    "        )\n",
    "        self.aw5 = AWPool2d(kernel_size=2, stride=2, temperature=self.temperature[4])\n",
    "        self.globalavg = nn.AdaptiveAvgPool2d(1)\n",
    "        self.classifier = nn.Sequential(\n",
    "            nn.Linear(512, 4096),\n",
    "            nn.ReLU(inplace=True),\n",
    "            nn.Dropout(),\n",
    "            nn.Linear(4096, 4096),\n",
    "            nn.ReLU(inplace=True),\n",
    "            nn.Dropout(),\n",
    "            nn.Linear(4096, num_class)\n",
    "        )\n",
    "        \n",
    "        if init_weights:\n",
    "            self._initialize_weights()\n",
    "    \n",
    "    def forward(self, x):\n",
    "        x = self.conv1(x)\n",
    "        x = self.aw1(x)\n",
    "        x = self.conv2(x)\n",
    "        x = self.aw2(x)\n",
    "        x = self.conv3(x)\n",
    "        x = self.aw3(x)\n",
    "        x = self.conv4(x)\n",
    "        x = self.aw4(x)\n",
    "        x = self.conv5(x)\n",
    "        x = self.aw5(x)\n",
    "        x = self.globalavg(x)\n",
    "        x = torch.flatten(x, start_dim=1)\n",
    "        x = self.classifier(x)\n",
    "        \n",
    "        return x\n",
    "        \n",
    "    def _initialize_weights(self) -> None:\n",
    "        for m in self.modules():\n",
    "            if isinstance(m, nn.Conv2d):\n",
    "                nn.init.kaiming_normal_(m.weight, mode='fan_out', nonlinearity='relu')\n",
    "                if m.bias is not None:\n",
    "                    nn.init.constant_(m.bias, 0)\n",
    "            elif isinstance(m, nn.BatchNorm2d):\n",
    "                nn.init.constant_(m.weight, 1)\n",
    "                nn.init.constant_(m.bias, 0)\n",
    "            elif isinstance(m, nn.Linear):\n",
    "                nn.init.normal_(m.weight, 0, 0.01)\n",
    "                nn.init.constant_(m.bias, 0)\n",
    "        "
   ]
  },
  {
   "cell_type": "code",
   "execution_count": 12,
   "id": "b62bb7dc",
   "metadata": {},
   "outputs": [],
   "source": [
    "criterion = nn.CrossEntropyLoss().cuda()"
   ]
  },
  {
   "cell_type": "code",
   "execution_count": 45,
   "id": "507f24b1",
   "metadata": {},
   "outputs": [],
   "source": [
    "model = VGG11()\n",
    "model = model.cuda()"
   ]
  },
  {
   "cell_type": "code",
   "execution_count": 46,
   "id": "624e21cf",
   "metadata": {},
   "outputs": [],
   "source": [
    "opt1 = torch.optim.SGD(model.parameters(), lr=0.1)\n",
    "opt2 = torch.optim.SGD([model.temperature], lr=0.01)"
   ]
  },
  {
   "cell_type": "code",
   "execution_count": 63,
   "id": "c623ef39",
   "metadata": {},
   "outputs": [
    {
     "name": "stdout",
     "output_type": "stream",
     "text": [
      "tensor([1.0000, 1.0000, 1.0000, 1.0000, 0.9999], requires_grad=True)\n"
     ]
    }
   ],
   "source": [
    "# for n,p in model.named_parameters():\n",
    "#     print(n)\n",
    "print(model.temperature)"
   ]
  },
  {
   "cell_type": "code",
   "execution_count": 76,
   "id": "dcef6731",
   "metadata": {},
   "outputs": [],
   "source": [
    "images, labels = images.cuda(), labels.cuda()\n",
    "pred = model(images)\n",
    "loss = criterion(pred, labels)\n",
    "loss.backward()\n",
    "opt1.step()\n",
    "opt2.step()\n",
    "opt1.zero_grad()\n",
    "opt2.zero_grad()"
   ]
  },
  {
   "cell_type": "code",
   "execution_count": 77,
   "id": "8f7f2be8",
   "metadata": {},
   "outputs": [
    {
     "name": "stdout",
     "output_type": "stream",
     "text": [
      "tensor([0.9997, 1.0000, 0.9997, 1.0001, 0.9961], requires_grad=True)\n"
     ]
    }
   ],
   "source": [
    "print(model.temperature)"
   ]
  },
  {
   "cell_type": "code",
   "execution_count": 2,
   "id": "d55b566d",
   "metadata": {},
   "outputs": [],
   "source": [
    "from models.awpooling import AWPool2d_"
   ]
  },
  {
   "cell_type": "code",
   "execution_count": 44,
   "id": "655ebdb0",
   "metadata": {},
   "outputs": [],
   "source": [
    "class net(nn.Module):\n",
    "    def __init__(self):\n",
    "        super(net, self).__init__()\n",
    "        self.conv = nn.Conv2d(1, 64, kernel_size=3, padding=1)\n",
    "        self.aw = AWPool2d_(kernel_size=2, stride=2)\n",
    "        self.classifier = nn.Linear(64, 100)\n",
    "    def forward(self, x):\n",
    "        x = self.aw(self.conv(x))\n",
    "        x = torch.flatten(x, start_dim=1)\n",
    "        x = x.view(x.size(0), -1)\n",
    "        x = self.classifier(x)\n",
    "        return x"
   ]
  },
  {
   "cell_type": "code",
   "execution_count": null,
   "id": "e55aec37",
   "metadata": {},
   "outputs": [],
   "source": []
  },
  {
   "cell_type": "code",
   "execution_count": 60,
   "id": "18dbd5e1",
   "metadata": {},
   "outputs": [],
   "source": [
    "model = net().cuda()\n",
    "criterion = nn.CrossEntropyLoss()\n",
    "data = torch.randn(1, 1, 2, 2).cuda()\n",
    "label = torch.arange(1.0,101.0).cuda()\n",
    "label = label.view(1, -1)\n",
    "opt1 = torch.optim.SGD(params=[*model.conv.parameters(), *model.classifier.parameters()], lr=0.1)\n",
    "opt = torch.optim.SGD(model.aw.parameters(), lr=0.1)"
   ]
  },
  {
   "cell_type": "code",
   "execution_count": 71,
   "id": "f76eb5eb",
   "metadata": {},
   "outputs": [],
   "source": [
    "param_list = []\n",
    "for n, p in model.named_parameters():\n",
    "    if 'aw' in n:\n",
    "        param_list += [{'params': p, 'lr': 0.1}]\n",
    "    else:\n",
    "        param_list += [{'params': p, 'lr': 0.01, 'momentum': 0.9, 'weight_decay': 1e-4}]\n",
    "opt = torch.optim.SGD(params=param_list)"
   ]
  },
  {
   "cell_type": "code",
   "execution_count": 76,
   "id": "c4d3fbf4",
   "metadata": {},
   "outputs": [
    {
     "data": {
      "text/plain": [
       "<generator object Module.parameters at 0x7fb980f0d5f0>"
      ]
     },
     "execution_count": 76,
     "metadata": {},
     "output_type": "execute_result"
    }
   ],
   "source": [
    "model.aw.parameters()"
   ]
  },
  {
   "cell_type": "code",
   "execution_count": 64,
   "id": "1258d70e",
   "metadata": {},
   "outputs": [
    {
     "data": {
      "text/plain": [
       "tensor([[[[3.1754]]]], device='cuda:0', grad_fn=<SumBackward1>)"
      ]
     },
     "execution_count": 64,
     "metadata": {},
     "output_type": "execute_result"
    }
   ],
   "source": [
    "a = torch.FloatTensor([1,2,3,4]).cuda()\n",
    "a = a.view(1, 1, 2, 2)\n",
    "model.aw(a)"
   ]
  },
  {
   "cell_type": "code",
   "execution_count": 62,
   "id": "c96cd604",
   "metadata": {},
   "outputs": [],
   "source": [
    "loss = criterion(pred, label)\n",
    "loss.backward()\n",
    "opt.step()\n",
    "opt1.step()"
   ]
  },
  {
   "cell_type": "code",
   "execution_count": 78,
   "id": "e0e8e483",
   "metadata": {},
   "outputs": [],
   "source": [
    "from torch.utils.tensorboard import SummaryWriter\n",
    "writer = SummaryWriter()\n",
    "writer.add_scalars('Test', {'t': model.aw.t}, 1)"
   ]
  },
  {
   "cell_type": "code",
   "execution_count": 5,
   "id": "327e4e01",
   "metadata": {},
   "outputs": [
    {
     "name": "stdout",
     "output_type": "stream",
     "text": [
      "84\n",
      "49.84\n",
      "[Parameter containing:\n",
      "tensor([1.], device='cuda:0'), Parameter containing:\n",
      "tensor([1.], device='cuda:0'), Parameter containing:\n",
      "tensor([1.], device='cuda:0'), Parameter containing:\n",
      "tensor([1.], device='cuda:0'), Parameter containing:\n",
      "tensor([1.], device='cuda:0')]\n"
     ]
    }
   ],
   "source": [
    "ck11 = torch.load('checkpoints/tiny-imagenet/vgg11awt_best.pth.tar')\n",
    "# ck13 = torch.load('checkpoints/tiny-imagenet/vgg13awt_best.pth.tar')\n",
    "# ck16 = torch.load('checkpoints/tiny-imagenet/vgg16awt_best.pth.tar')\n",
    "# ck19 = torch.load('checkpoints/tiny-imagenet/vgg19awt_best.pth.tar')\n",
    "\n",
    "print(ck11['epoch'], ck11['best_acc1'], ck11['temperature'],sep='\\n')\n",
    "\n",
    "# print(ck11['best_acc1'], ck13['best_acc1'], ck16['best_acc1'], ck19['best_acc1'])\n",
    "# print(ck11['temperature'], ck13['temperature'], ck16['temperature'], ck19['temperature'], sep='\\n')\n",
    "# print(ck11['epoch'], ck13['epoch'], ck16['epoch'], ck19['epoch'])"
   ]
  },
  {
   "cell_type": "code",
   "execution_count": 2,
   "id": "f531c3c5",
   "metadata": {},
   "outputs": [],
   "source": [
    "def set_mode(model, mode='normal'):\n",
    "    if mode == 'normal':\n",
    "        for n, p in model.named_parameters():\n",
    "            if 'aw' in n:\n",
    "                p.requires_grad = False\n",
    "            else:\n",
    "                p.requires_grad = True\n",
    "    elif mode == 'temperature':\n",
    "        for n, p in model.named_parameters():\n",
    "            if 'aw' in n:\n",
    "                p.requires_grad = True\n",
    "            else:\n",
    "                p.requires_grad = False"
   ]
  },
  {
   "cell_type": "code",
   "execution_count": 2,
   "id": "0d39ed5d",
   "metadata": {},
   "outputs": [
    {
     "name": "stdout",
     "output_type": "stream",
     "text": [
      "True\n",
      "False\n",
      "conv1.0.weight True\n",
      "conv1.0.bias True\n",
      "conv1.2.weight True\n",
      "conv1.2.bias True\n",
      "aw1.t False\n",
      "conv2.0.weight True\n",
      "conv2.0.bias True\n",
      "conv2.2.weight True\n",
      "conv2.2.bias True\n",
      "aw2.t True\n",
      "conv3.0.weight True\n",
      "conv3.0.bias True\n",
      "conv3.2.weight True\n",
      "conv3.2.bias True\n",
      "conv3.3.weight True\n",
      "conv3.3.bias True\n",
      "conv3.5.weight True\n",
      "conv3.5.bias True\n",
      "aw3.t True\n",
      "conv4.0.weight True\n",
      "conv4.0.bias True\n",
      "conv4.2.weight True\n",
      "conv4.2.bias True\n",
      "conv4.3.weight True\n",
      "conv4.3.bias True\n",
      "conv4.5.weight True\n",
      "conv4.5.bias True\n",
      "aw4.t True\n",
      "conv5.0.weight True\n",
      "conv5.0.bias True\n",
      "conv5.2.weight True\n",
      "conv5.2.bias True\n",
      "conv5.3.weight True\n",
      "conv5.3.bias True\n",
      "conv5.5.weight True\n",
      "conv5.5.bias True\n",
      "aw5.t True\n",
      "classifier.0.weight True\n",
      "classifier.0.bias True\n",
      "classifier.3.weight True\n",
      "classifier.3.bias True\n",
      "classifier.6.weight True\n",
      "classifier.6.bias True\n"
     ]
    }
   ],
   "source": [
    "model = VGG11()\n",
    "\n",
    "model.disable_t()\n",
    "for n, p in model.named_parameters():\n",
    "    print(n, p.requires_grad)\n",
    "\n",
    "# set_mode(model, mode='temperature')"
   ]
  },
  {
   "cell_type": "code",
   "execution_count": 15,
   "id": "50f5ec86",
   "metadata": {},
   "outputs": [
    {
     "name": "stdout",
     "output_type": "stream",
     "text": [
      "conv1.0.weight False\n",
      "conv1.0.bias False\n",
      "conv1.2.weight False\n",
      "conv1.2.bias False\n",
      "aw1.t True\n",
      "conv2.0.weight False\n",
      "conv2.0.bias False\n",
      "conv2.2.weight False\n",
      "conv2.2.bias False\n",
      "aw2.t True\n",
      "conv3.0.weight False\n",
      "conv3.0.bias False\n",
      "conv3.2.weight False\n",
      "conv3.2.bias False\n",
      "conv3.3.weight False\n",
      "conv3.3.bias False\n",
      "conv3.5.weight False\n",
      "conv3.5.bias False\n",
      "aw3.t True\n",
      "conv4.0.weight False\n",
      "conv4.0.bias False\n",
      "conv4.2.weight False\n",
      "conv4.2.bias False\n",
      "conv4.3.weight False\n",
      "conv4.3.bias False\n",
      "conv4.5.weight False\n",
      "conv4.5.bias False\n",
      "aw4.t True\n",
      "conv5.0.weight False\n",
      "conv5.0.bias False\n",
      "conv5.2.weight False\n",
      "conv5.2.bias False\n",
      "conv5.3.weight False\n",
      "conv5.3.bias False\n",
      "conv5.5.weight False\n",
      "conv5.5.bias False\n",
      "aw5.t True\n",
      "classifier.0.weight False\n",
      "classifier.0.bias False\n",
      "classifier.3.weight False\n",
      "classifier.3.bias False\n",
      "classifier.6.weight False\n",
      "classifier.6.bias False\n"
     ]
    }
   ],
   "source": [
    "for n, p in model.named_parameters():\n",
    "    print(n, p.requires_grad)\n"
   ]
  },
  {
   "cell_type": "markdown",
   "id": "dedb3a41",
   "metadata": {},
   "source": [
    "# 分開訓練, 交互訓練\n"
   ]
  }
 ],
 "metadata": {
  "kernelspec": {
   "display_name": "Python 3 (ipykernel)",
   "language": "python",
   "name": "python3"
  },
  "language_info": {
   "codemirror_mode": {
    "name": "ipython",
    "version": 3
   },
   "file_extension": ".py",
   "mimetype": "text/x-python",
   "name": "python",
   "nbconvert_exporter": "python",
   "pygments_lexer": "ipython3",
   "version": "3.8.10"
  }
 },
 "nbformat": 4,
 "nbformat_minor": 5
}
