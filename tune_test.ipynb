{
 "cells": [
  {
   "cell_type": "code",
   "execution_count": null,
   "metadata": {},
   "outputs": [],
   "source": [
    "import torch\n",
    "import torch.nn as nn\n",
    "import torchvision.transforms as transforms\n",
    "import torchvision.datasets as datasets\n",
    "from models.awpooling import AWPool2d\n",
    "from models.vggaw import VGG11AW\n",
    "\n",
    "import ray\n",
    "from ray import tune\n",
    "from ray.tune import CLIReporter\n",
    "from ray.tune.schedulers import ASHAScheduler\n",
    "from ray.air import session\n",
    "from ray.air.config import RunConfig, CheckpointConfig\n",
    "from ray.air.checkpoint import Checkpoint\n",
    "from ray.tune.search.bayesopt import BayesOptSearch\n",
    "from ray.tune.search.hyperopt import HyperOptSearch\n",
    "\n",
    "import os\n",
    "import time"
   ]
  },
  {
   "cell_type": "code",
   "execution_count": 2,
   "metadata": {},
   "outputs": [],
   "source": [
    "def get_loader(root='/root/notebooks/nfs/work/dataset/tiny-imagenet-200'):\n",
    "    \n",
    "    normalize = transforms.Normalize(mean=[0.485, 0.456, 0.406], std=[0.229, 0.224, 0.225])\n",
    "    traindir = os.path.join(root, 'train')\n",
    "    valdir = os.path.join(root, 'val')\n",
    "    \n",
    "    train_ds = datasets.ImageFolder(\n",
    "        traindir,\n",
    "        transform=transforms.Compose([\n",
    "            transforms.RandomHorizontalFlip(),\n",
    "            transforms.ToTensor(),\n",
    "            normalize,\n",
    "        ])\n",
    "    )\n",
    "    \n",
    "    val_ds = datasets.ImageFolder(\n",
    "        valdir,\n",
    "        transform=transforms.Compose([\n",
    "            transforms.ToTensor(),\n",
    "            normalize,\n",
    "        ])\n",
    "    )\n",
    "    \n",
    "    train_loader = torch.utils.data.DataLoader(train_ds, batch_size=256, shuffle=True, num_workers=4, pin_memory=True)\n",
    "    val_loader = torch.utils.data.DataLoader(val_ds, batch_size=256, shuffle=False, num_workers=4, pin_memory=True)\n",
    "    \n",
    "    return train_loader, val_loader"
   ]
  },
  {
   "cell_type": "code",
   "execution_count": 8,
   "metadata": {},
   "outputs": [],
   "source": [
    "def train_model(config): \n",
    "    \n",
    "    assert torch.cuda.is_available()\n",
    "    \n",
    "    save_root = '/root/notebooks/nfs/work/larry.lai/AWPooling/baysopt'\n",
    "    os.makedirs(save_root, exist_ok=True)\n",
    "    \n",
    "    device = torch.device('cuda' if torch.cuda.is_available else 'cpu')\n",
    "    train_loader, val_loader = get_loader()\n",
    "    \n",
    "    model = VGG11AW(num_class=200)\n",
    "    model.set_temperature(config)\n",
    "    model.to(device) \n",
    "    \n",
    "    optimizer = torch.optim.SGD(model.parameters(), lr=0.1, momentum=0.9, weight_decay=1e-4)\n",
    "    scheduler = torch.optim.lr_scheduler.StepLR(optimizer, step_size=30, gamma=0.1)\n",
    "    criterion = nn.CrossEntropyLoss()\n",
    "    criterion.to(device)\n",
    "    best_acc = 0\n",
    "    running_loss = 0\n",
    "    \n",
    "    for epoch in range(90):\n",
    "        model.train()\n",
    "        for data in train_loader:\n",
    "            image, label = data\n",
    "            image = image.to(device)\n",
    "            label = label.to(device)\n",
    "            \n",
    "            logits = model(image)\n",
    "            loss = criterion(logits, label)\n",
    "            running_loss += loss.item()\n",
    "            \n",
    "            optimizer.zero_grad()\n",
    "            loss.backward()\n",
    "            optimizer.step()\n",
    "            \n",
    "        scheduler.step()\n",
    "        print(f\"Epoch[{epoch + 1}/5]: loss {running_loss/len(train_loader):.4f}\")\n",
    "        \n",
    "        running_loss = 0\n",
    "        corrects = 0\n",
    "        model.eval()\n",
    "        with torch.no_grad():\n",
    "            for data in val_loader:\n",
    "                image, label = data\n",
    "                image = image.to(device)\n",
    "                label = label.to(device)\n",
    "                \n",
    "                logits = model(image)\n",
    "                loss = criterion(logits, label)\n",
    "                running_loss += loss.item()\n",
    "                \n",
    "                _, pred = logits.max(dim=1)\n",
    "                corrects += pred.eq(label).sum()\n",
    "        \n",
    "        acc = corrects / len(val_loader.dataset)\n",
    "        \n",
    "        best_acc = acc if acc > best_acc else best_acc\n",
    "        \n",
    "        acc = acc.data.cpu().numpy()\n",
    "        checkpoint = Checkpoint.from_directory(save_root)\n",
    "        session.report({\"accuracy\": float(acc), \"loss\": running_loss / len(val_loader)}, checkpoint=checkpoint)\n",
    "    \n",
    "    print(f\"trial {session.get_tral_name()}: best acc: {best_acc:.4f}\")\n",
    "    print(\"Finish training\")"
   ]
  },
  {
   "cell_type": "code",
   "execution_count": 31,
   "metadata": {},
   "outputs": [],
   "source": [
    "def search_t(config):\n",
    "    assert torch.cuda.is_available()\n",
    "    \n",
    "    device = torch.device('cuda')\n",
    "    \n",
    "    # load dataset\n",
    "    train_loader, val_loader = get_loader()\n",
    "    \n",
    "    model = VGG11AW(num_class=200).to(device)\n",
    "    checkpoint = torch.load('/root/notebooks/nfs/work/larry.lai/AWPooling/checkpoints/tiny-imagenet/vgg11aw_best.pth.tar', map_location=device)\n",
    "    model.load_state_dict(checkpoint['state_dict'])\n",
    "    model.set_temperature(config)\n",
    "    \n",
    "    criterion = nn.CrossEntropyLoss()\n",
    "    criterion.to(device)\n",
    "    \n",
    "    total_loss = 0\n",
    "    corrects = 0\n",
    "    model.eval()\n",
    "    with torch.no_grad():\n",
    "        for i, data in enumerate(val_loader):\n",
    "            image, label = data\n",
    "            image, label = image.to(device), label.to(device)\n",
    "            \n",
    "            logits = model(image)\n",
    "            loss = criterion(logits, label)\n",
    "            \n",
    "            _, pred = logits.max(dim=1)\n",
    "            corrects += pred.eq(label).sum()\n",
    "            total_loss += loss.item()\n",
    "        \n",
    "    acc = corrects / len(val_loader.dataset)\n",
    "    total_loss /= len(val_loader)\n",
    "    \n",
    "    acc = acc.data.cpu().numpy()\n",
    "    session.report({\"loss\": float(total_loss), \"mean_accuracy\": float(acc)})\n",
    "    \n",
    "    print(\"Finished\")"
   ]
  },
  {
   "cell_type": "code",
   "execution_count": null,
   "metadata": {},
   "outputs": [],
   "source": [
    "search_space = {\n",
    "    \"t0\": tune.uniform(1e-5, 10),\n",
    "    \"t1\": tune.uniform(1e-5, 10),\n",
    "    \"t2\": tune.uniform(1e-5, 10),\n",
    "    \"t3\": tune.uniform(1e-5, 10),\n",
    "    \"t4\": tune.uniform(1e-5, 10),\n",
    "}\n",
    "\n",
    "algo = BayesOptSearch(metric='accuracy', mode='max')\n",
    "tune_config = tune.TuneConfig(\n",
    "    num_samples=30,\n",
    "    search_alg=algo\n",
    ")\n",
    "\n",
    "checkpoint_config = CheckpointConfig(\n",
    "    num_to_keep=3,\n",
    "    checkpoint_score_attribute='accuracy',\n",
    "    checkpoint_score_order='max'\n",
    ")\n",
    "\n",
    "tuner = tune.Tuner(\n",
    "    tune.with_resources(train_model, {'gpu': 2, 'cpu': 4}),\n",
    "    tune_config=tune_config,\n",
    "    run_config=RunConfig(local_dir='./test_run', name='bays_epoch90', checkpoint_config=checkpoint_config),\n",
    "    param_space=search_space,\n",
    ")\n",
    "results = tuner.fit()"
   ]
  },
  {
   "cell_type": "code",
   "execution_count": 20,
   "metadata": {},
   "outputs": [],
   "source": [
    "from ray.tune import ExperimentAnalysis\n",
    "\n",
    "experiment = ExperimentAnalysis('test_run/bays_vgg11aw_epoch90', default_metric='accuracy', default_mode='max')"
   ]
  },
  {
   "cell_type": "code",
   "execution_count": 23,
   "metadata": {},
   "outputs": [
    {
     "data": {
      "text/plain": [
       "{'t0': 0.8872739874944279,\n",
       " 't1': 0.19094476202714777,\n",
       " 't2': 9.0334249741,\n",
       " 't3': 5.974913130728477,\n",
       " 't4': 7.412619693559958}"
      ]
     },
     "execution_count": 23,
     "metadata": {},
     "output_type": "execute_result"
    }
   ],
   "source": [
    "experiment.best_config"
   ]
  },
  {
   "cell_type": "code",
   "execution_count": 15,
   "metadata": {},
   "outputs": [
    {
     "data": {
      "text/plain": [
       "7.624647182103896"
      ]
     },
     "execution_count": 15,
     "metadata": {},
     "output_type": "execute_result"
    }
   ],
   "source": [
    "import numpy as np\n",
    "a = np.array([9, 7, 8, 6])\n",
    "t = 10\n",
    "i = np.exp(a / t)\n",
    "d = sum(i)\n",
    "w = i / d\n",
    "w.dot(a)"
   ]
  },
  {
   "cell_type": "code",
   "execution_count": 30,
   "metadata": {},
   "outputs": [
    {
     "data": {
      "text/html": [
       "<div>\n",
       "<style scoped>\n",
       "    .dataframe tbody tr th:only-of-type {\n",
       "        vertical-align: middle;\n",
       "    }\n",
       "\n",
       "    .dataframe tbody tr th {\n",
       "        vertical-align: top;\n",
       "    }\n",
       "\n",
       "    .dataframe thead th {\n",
       "        text-align: right;\n",
       "    }\n",
       "</style>\n",
       "<table border=\"1\" class=\"dataframe\">\n",
       "  <thead>\n",
       "    <tr style=\"text-align: right;\">\n",
       "      <th></th>\n",
       "      <th>mean_accuracy</th>\n",
       "      <th>time_this_iter_s</th>\n",
       "      <th>done</th>\n",
       "      <th>timesteps_total</th>\n",
       "      <th>episodes_total</th>\n",
       "      <th>training_iteration</th>\n",
       "      <th>trial_id</th>\n",
       "      <th>experiment_id</th>\n",
       "      <th>date</th>\n",
       "      <th>timestamp</th>\n",
       "      <th>...</th>\n",
       "      <th>time_since_restore</th>\n",
       "      <th>timesteps_since_restore</th>\n",
       "      <th>iterations_since_restore</th>\n",
       "      <th>warmup_time</th>\n",
       "      <th>config/t1</th>\n",
       "      <th>config/t2</th>\n",
       "      <th>config/t3</th>\n",
       "      <th>config/t4</th>\n",
       "      <th>config/t5</th>\n",
       "      <th>logdir</th>\n",
       "    </tr>\n",
       "  </thead>\n",
       "  <tbody>\n",
       "    <tr>\n",
       "      <th>0</th>\n",
       "      <td>tensor(0.7571, device='cuda:0')</td>\n",
       "      <td>9.670802</td>\n",
       "      <td>False</td>\n",
       "      <td>NaN</td>\n",
       "      <td>NaN</td>\n",
       "      <td>10</td>\n",
       "      <td>9412d_00000</td>\n",
       "      <td>b67d4feb27714c01bad462aaa7b9a6a0</td>\n",
       "      <td>2022-10-17_17-48-54</td>\n",
       "      <td>1666000134</td>\n",
       "      <td>...</td>\n",
       "      <td>140.423691</td>\n",
       "      <td>0</td>\n",
       "      <td>10</td>\n",
       "      <td>0.004107</td>\n",
       "      <td>5.032654</td>\n",
       "      <td>2.353893</td>\n",
       "      <td>0.511015</td>\n",
       "      <td>-0.905503</td>\n",
       "      <td>5.045072</td>\n",
       "      <td>/root/notebooks/ray_results/train_model_2022-1...</td>\n",
       "    </tr>\n",
       "  </tbody>\n",
       "</table>\n",
       "<p>1 rows × 24 columns</p>\n",
       "</div>"
      ],
      "text/plain": [
       "                     mean_accuracy  time_this_iter_s   done  timesteps_total  \\\n",
       "0  tensor(0.7571, device='cuda:0')          9.670802  False              NaN   \n",
       "\n",
       "   episodes_total  training_iteration     trial_id  \\\n",
       "0             NaN                  10  9412d_00000   \n",
       "\n",
       "                      experiment_id                 date   timestamp  ...  \\\n",
       "0  b67d4feb27714c01bad462aaa7b9a6a0  2022-10-17_17-48-54  1666000134  ...   \n",
       "\n",
       "   time_since_restore  timesteps_since_restore iterations_since_restore  \\\n",
       "0          140.423691                        0                       10   \n",
       "\n",
       "  warmup_time  config/t1  config/t2  config/t3  config/t4  config/t5  \\\n",
       "0    0.004107   5.032654   2.353893   0.511015  -0.905503   5.045072   \n",
       "\n",
       "                                              logdir  \n",
       "0  /root/notebooks/ray_results/train_model_2022-1...  \n",
       "\n",
       "[1 rows x 24 columns]"
      ]
     },
     "execution_count": 30,
     "metadata": {},
     "output_type": "execute_result"
    }
   ],
   "source": [
    "df"
   ]
  },
  {
   "cell_type": "code",
   "execution_count": 26,
   "metadata": {},
   "outputs": [
    {
     "data": {
      "text/plain": [
       "Result(metrics={'mean_accuracy': tensor(0.7571, device='cuda:0'), 'done': True, 'trial_id': '9412d_00000', 'experiment_tag': '0_t1=5.0327,t2=2.3539,t3=0.5110,t4=-0.9055,t5=5.0451'}, error=None, log_dir=PosixPath('/root/notebooks/ray_results/train_model_2022-10-17_17-46-30/train_model_9412d_00000_0_t1=5.0327,t2=2.3539,t3=0.5110,t4=-0.9055,t5=5.0451_2022-10-17_17-46-31'))"
      ]
     },
     "execution_count": 26,
     "metadata": {},
     "output_type": "execute_result"
    }
   ],
   "source": [
    "df"
   ]
  },
  {
   "cell_type": "code",
   "execution_count": null,
   "metadata": {},
   "outputs": [],
   "source": []
  }
 ],
 "metadata": {
  "kernelspec": {
   "display_name": "Python 3",
   "language": "python",
   "name": "python3"
  },
  "language_info": {
   "codemirror_mode": {
    "name": "ipython",
    "version": 3
   },
   "file_extension": ".py",
   "mimetype": "text/x-python",
   "name": "python",
   "nbconvert_exporter": "python",
   "pygments_lexer": "ipython3",
   "version": "3.6.9"
  }
 },
 "nbformat": 4,
 "nbformat_minor": 5
}
